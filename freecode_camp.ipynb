{
  "nbformat": 4,
  "nbformat_minor": 0,
  "metadata": {
    "colab": {
      "provenance": [],
      "gpuType": "T4",
      "authorship_tag": "ABX9TyOPTRxVjGKto63PM35fCfKf",
      "include_colab_link": true
    },
    "kernelspec": {
      "name": "python3",
      "display_name": "Python 3"
    },
    "language_info": {
      "name": "python"
    }
  },
  "cells": [
    {
      "cell_type": "markdown",
      "metadata": {
        "id": "view-in-github",
        "colab_type": "text"
      },
      "source": [
        "<a href=\"https://colab.research.google.com/github/Rameshwarsp7900/Rameshwarsp7900/blob/main/freecode_camp.ipynb\" target=\"_parent\"><img src=\"https://colab.research.google.com/assets/colab-badge.svg\" alt=\"Open In Colab\"/></a>"
      ]
    },
    {
      "cell_type": "markdown",
      "source": [
        "# **Rock, Paper, Scissors**"
      ],
      "metadata": {
        "id": "NCBbti6PSm2L"
      }
    },
    {
      "cell_type": "code",
      "source": [
        "import random\n",
        "\n",
        "def get_choices():\n",
        "  player_choice = input(\"Enter a choice (rock, paper, scissors): \")\n",
        "  options = [\"rock\", \"paper\", \"scissors\"]\n",
        "  computer_choice = random.choice(options)\n",
        "  choices = {\"player\": player_choice, \"computer\": computer_choice}\n",
        "  return choices\n",
        "\n",
        "def check_win(player, computer):\n",
        "  print(f\"You chose {player}, computer chose {computer}\")\n",
        "  if player == computer:\n",
        "    return \"It's a tie!\"\n",
        "  elif player == \"rock\":\n",
        "    if computer == \"scissors\":\n",
        "      return \"Rock smashes scissors! You win!\"\n",
        "    else:\n",
        "      return \"Paper covers rock! You lose.\"\n",
        "  elif player == \"paper\":\n",
        "    if computer == \"rock\":\n",
        "      return \"Paper covers rock! You win!\"\n",
        "    else:\n",
        "      return \"Scissors cuts paper! You lose.\"\n",
        "  elif player == \"scissors\":\n",
        "    if computer == \"paper\":\n",
        "      return \"Scissors cuts paper! You win!\"\n",
        "    else:\n",
        "      return \"Rock smashes scissors! You lose.\"\n",
        "\n",
        "choices = get_choices()\n",
        "result = check_win(choices[\"player\"], choices[\"computer\"])\n",
        "print(result)"
      ],
      "metadata": {
        "colab": {
          "base_uri": "https://localhost:8080/"
        },
        "id": "bXwK5V54Rswv",
        "outputId": "478e60a3-6ce0-4374-907e-f6c9f413625a"
      },
      "execution_count": 18,
      "outputs": [
        {
          "output_type": "stream",
          "name": "stdout",
          "text": [
            "Enter a choice (rock, paper, scissors): rock\n",
            "You chose rock, computer chose scissors\n",
            "Rock smashes scissors! You win!\n"
          ]
        }
      ]
    },
    {
      "cell_type": "code",
      "source": [
        "import random\n",
        "def get_choice():\n",
        "  player_choice = input(\"Enter your choice: \")\n",
        "  options = [\"rock\", \"paper\", \"scissors\"]\n",
        "  com_choice = random .choice(options)\n",
        "  choice = {\"player\" : player_choice, \"com\" : com_choice }\n",
        "  return choice\n",
        "\n",
        "def check_winner(player, com):\n",
        "  print(f\"You chose { player }, computer chose { com }\")\n",
        "  if player == com:\n",
        "    return \"Tie\"\n",
        "  elif player ==\"rock\" :\n",
        "    if com == \"scissors\":\n",
        "      return \"rock smashes scissors !you win!\"\n",
        "    else:\n",
        "      return \"paper covers rock! you lose!\"\n",
        "  elif player == \"paper\":\n",
        "    if com == \"rock\":\n",
        "      return \"paper covers rock! you win!\"\n",
        "    else:\n",
        "      return \"scissors cuts paper! you lose!\"\n",
        "  elif player == \"scissors\":\n",
        "    if com == \"paper\":\n",
        "      return \"scissors cuts paper! you win!\"\n",
        "    else:\n",
        "      return \"rock smashes scissors! you lose!\"\n",
        "\n",
        "choice = get_choice()\n",
        "result = check_winner(choice[\"player\"], choice[\"com\"])\n",
        "print(result)\n",
        "\n"
      ],
      "metadata": {
        "id": "PTQw9DolvVrS",
        "colab": {
          "base_uri": "https://localhost:8080/"
        },
        "outputId": "3d34d177-e0b1-4d51-e790-a62bb14f26bf"
      },
      "execution_count": 23,
      "outputs": [
        {
          "output_type": "stream",
          "name": "stdout",
          "text": [
            "Enter your choice: paper\n",
            "You chose paper, computer chose rock\n",
            "paper covers rock! you win!\n"
          ]
        }
      ]
    }
  ]
}